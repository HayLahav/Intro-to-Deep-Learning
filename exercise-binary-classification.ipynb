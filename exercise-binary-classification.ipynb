{
 "cells": [
  {
   "cell_type": "markdown",
   "id": "75813160",
   "metadata": {
    "papermill": {
     "duration": 0.006263,
     "end_time": "2022-08-19T00:01:10.868127",
     "exception": false,
     "start_time": "2022-08-19T00:01:10.861864",
     "status": "completed"
    },
    "tags": []
   },
   "source": [
    "**This notebook is an exercise in the [Intro to Deep Learning](https://www.kaggle.com/learn/intro-to-deep-learning) course.  You can reference the tutorial at [this link](https://www.kaggle.com/ryanholbrook/binary-classification).**\n",
    "\n",
    "---\n"
   ]
  },
  {
   "cell_type": "markdown",
   "id": "88156ed1",
   "metadata": {
    "papermill": {
     "duration": 0.00405,
     "end_time": "2022-08-19T00:01:10.876772",
     "exception": false,
     "start_time": "2022-08-19T00:01:10.872722",
     "status": "completed"
    },
    "tags": []
   },
   "source": [
    "# Introduction #\n",
    "\n",
    "In this exercise, you'll build a model to predict hotel cancellations with a binary classifier."
   ]
  },
  {
   "cell_type": "code",
   "execution_count": 1,
   "id": "9a1c325c",
   "metadata": {
    "execution": {
     "iopub.execute_input": "2022-08-19T00:01:10.887841Z",
     "iopub.status.busy": "2022-08-19T00:01:10.886804Z",
     "iopub.status.idle": "2022-08-19T00:01:10.952026Z",
     "shell.execute_reply": "2022-08-19T00:01:10.951048Z"
    },
    "lines_to_next_cell": 0,
    "papermill": {
     "duration": 0.07398,
     "end_time": "2022-08-19T00:01:10.954808",
     "exception": false,
     "start_time": "2022-08-19T00:01:10.880828",
     "status": "completed"
    },
    "tags": []
   },
   "outputs": [],
   "source": [
    "# Setup plotting\n",
    "import matplotlib.pyplot as plt\n",
    "plt.style.use('seaborn-whitegrid')\n",
    "# Set Matplotlib defaults\n",
    "plt.rc('figure', autolayout=True)\n",
    "plt.rc('axes', labelweight='bold', labelsize='large',\n",
    "       titleweight='bold', titlesize=18, titlepad=10)\n",
    "plt.rc('animation', html='html5')\n",
    "\n",
    "# Setup feedback system\n",
    "from learntools.core import binder\n",
    "binder.bind(globals())\n",
    "from learntools.deep_learning_intro.ex6 import *"
   ]
  },
  {
   "cell_type": "markdown",
   "id": "269d3a3c",
   "metadata": {
    "papermill": {
     "duration": 0.003745,
     "end_time": "2022-08-19T00:01:10.962771",
     "exception": false,
     "start_time": "2022-08-19T00:01:10.959026",
     "status": "completed"
    },
    "tags": []
   },
   "source": [
    "First, load the *Hotel Cancellations* dataset."
   ]
  },
  {
   "cell_type": "code",
   "execution_count": 2,
   "id": "6c1106cf",
   "metadata": {
    "execution": {
     "iopub.execute_input": "2022-08-19T00:01:10.973150Z",
     "iopub.status.busy": "2022-08-19T00:01:10.972330Z",
     "iopub.status.idle": "2022-08-19T00:01:13.642426Z",
     "shell.execute_reply": "2022-08-19T00:01:13.641213Z"
    },
    "lines_to_next_cell": 2,
    "papermill": {
     "duration": 2.678605,
     "end_time": "2022-08-19T00:01:13.645386",
     "exception": false,
     "start_time": "2022-08-19T00:01:10.966781",
     "status": "completed"
    },
    "tags": []
   },
   "outputs": [],
   "source": [
    "import pandas as pd\n",
    "\n",
    "from sklearn.model_selection import train_test_split\n",
    "from sklearn.preprocessing import StandardScaler, OneHotEncoder\n",
    "from sklearn.impute import SimpleImputer\n",
    "from sklearn.pipeline import make_pipeline\n",
    "from sklearn.compose import make_column_transformer\n",
    "\n",
    "hotel = pd.read_csv('../input/dl-course-data/hotel.csv')\n",
    "\n",
    "X = hotel.copy()\n",
    "y = X.pop('is_canceled')\n",
    "\n",
    "X['arrival_date_month'] = \\\n",
    "    X['arrival_date_month'].map(\n",
    "        {'January':1, 'February': 2, 'March':3,\n",
    "         'April':4, 'May':5, 'June':6, 'July':7,\n",
    "         'August':8, 'September':9, 'October':10,\n",
    "         'November':11, 'December':12}\n",
    "    )\n",
    "\n",
    "features_num = [\n",
    "    \"lead_time\", \"arrival_date_week_number\",\n",
    "    \"arrival_date_day_of_month\", \"stays_in_weekend_nights\",\n",
    "    \"stays_in_week_nights\", \"adults\", \"children\", \"babies\",\n",
    "    \"is_repeated_guest\", \"previous_cancellations\",\n",
    "    \"previous_bookings_not_canceled\", \"required_car_parking_spaces\",\n",
    "    \"total_of_special_requests\", \"adr\",\n",
    "]\n",
    "features_cat = [\n",
    "    \"hotel\", \"arrival_date_month\", \"meal\",\n",
    "    \"market_segment\", \"distribution_channel\",\n",
    "    \"reserved_room_type\", \"deposit_type\", \"customer_type\",\n",
    "]\n",
    "\n",
    "transformer_num = make_pipeline(\n",
    "    SimpleImputer(strategy=\"constant\"), # there are a few missing values\n",
    "    StandardScaler(),\n",
    ")\n",
    "transformer_cat = make_pipeline(\n",
    "    SimpleImputer(strategy=\"constant\", fill_value=\"NA\"),\n",
    "    OneHotEncoder(handle_unknown='ignore'),\n",
    ")\n",
    "\n",
    "preprocessor = make_column_transformer(\n",
    "    (transformer_num, features_num),\n",
    "    (transformer_cat, features_cat),\n",
    ")\n",
    "\n",
    "# stratify - make sure classes are evenlly represented across splits\n",
    "X_train, X_valid, y_train, y_valid = \\\n",
    "    train_test_split(X, y, stratify=y, train_size=0.75)\n",
    "\n",
    "X_train = preprocessor.fit_transform(X_train)\n",
    "X_valid = preprocessor.transform(X_valid)\n",
    "\n",
    "input_shape = [X_train.shape[1]]"
   ]
  },
  {
   "cell_type": "markdown",
   "id": "f185bc2c",
   "metadata": {
    "papermill": {
     "duration": 0.003791,
     "end_time": "2022-08-19T00:01:13.653244",
     "exception": false,
     "start_time": "2022-08-19T00:01:13.649453",
     "status": "completed"
    },
    "tags": []
   },
   "source": [
    "# 1) Define Model #\n",
    "\n",
    "The model we'll use this time will have both batch normalization and dropout layers. To ease reading we've broken the diagram into blocks, but you can define it layer by layer as usual.\n",
    "\n",
    "Define a model with an architecture given by this diagram:\n",
    "\n",
    "<figure style=\"padding: 1em;\">\n",
    "<img src=\"https://i.imgur.com/V04o59Z.png\" width=\"400\" alt=\"Diagram of network architecture: BatchNorm, Dense, BatchNorm, Dropout, Dense, BatchNorm, Dropout, Dense.\">\n",
    "<figcaption style=\"textalign: center; font-style: italic\"><center>Diagram of a binary classifier.</center></figcaption>\n",
    "</figure>\n"
   ]
  },
  {
   "cell_type": "code",
   "execution_count": 3,
   "id": "b782df53",
   "metadata": {
    "execution": {
     "iopub.execute_input": "2022-08-19T00:01:13.663482Z",
     "iopub.status.busy": "2022-08-19T00:01:13.662738Z",
     "iopub.status.idle": "2022-08-19T00:01:20.503363Z",
     "shell.execute_reply": "2022-08-19T00:01:20.501925Z"
    },
    "lines_to_next_cell": 2,
    "papermill": {
     "duration": 6.8489,
     "end_time": "2022-08-19T00:01:20.506099",
     "exception": false,
     "start_time": "2022-08-19T00:01:13.657199",
     "status": "completed"
    },
    "tags": []
   },
   "outputs": [
    {
     "name": "stderr",
     "output_type": "stream",
     "text": [
      "2022-08-19 00:01:20.375456: I tensorflow/core/common_runtime/process_util.cc:146] Creating new thread pool with default inter op setting: 2. Tune using inter_op_parallelism_threads for best performance.\n"
     ]
    },
    {
     "data": {
      "application/javascript": [
       "parent.postMessage({\"jupyterEvent\": \"custom.exercise_interaction\", \"data\": {\"outcomeType\": 1, \"valueTowardsCompletion\": 0.3333333333333333, \"interactionType\": 1, \"questionType\": 2, \"questionId\": \"1_Q1\", \"learnToolsVersion\": \"0.3.4\", \"failureMessage\": \"\", \"exceptionClass\": \"\", \"trace\": \"\"}}, \"*\")"
      ],
      "text/plain": [
       "<IPython.core.display.Javascript object>"
      ]
     },
     "metadata": {},
     "output_type": "display_data"
    },
    {
     "data": {
      "text/markdown": [
       "<span style=\"color:#33cc33\">Correct</span>"
      ],
      "text/plain": [
       "Correct"
      ]
     },
     "metadata": {},
     "output_type": "display_data"
    }
   ],
   "source": [
    "from tensorflow import keras\n",
    "from tensorflow.keras import layers\n",
    "\n",
    "# YOUR CODE HERE: define the model given in the diagram\n",
    "model = keras.Sequential([\n",
    "    layers.BatchNormalization(input_shape=input_shape),\n",
    "    layers.Dense(256,activation='relu'),\n",
    "    layers.BatchNormalization(),\n",
    "    layers.Dropout(0.3),\n",
    "    layers.Dense(256,activation='relu'),\n",
    "    layers.BatchNormalization(),\n",
    "    layers.Dropout(0.3),\n",
    "    layers.Dense(1,activation='sigmoid')\n",
    "])\n",
    "\n",
    "# Check your answer\n",
    "q_1.check()"
   ]
  },
  {
   "cell_type": "markdown",
   "id": "0fa31605",
   "metadata": {
    "papermill": {
     "duration": 0.004583,
     "end_time": "2022-08-19T00:01:20.515400",
     "exception": false,
     "start_time": "2022-08-19T00:01:20.510817",
     "status": "completed"
    },
    "tags": []
   },
   "source": [
    "# 2) Add Optimizer, Loss, and Metric #\n",
    "\n",
    "Now compile the model with the Adam optimizer and binary versions of the cross-entropy loss and accuracy metric."
   ]
  },
  {
   "cell_type": "code",
   "execution_count": 4,
   "id": "dc609cbd",
   "metadata": {
    "execution": {
     "iopub.execute_input": "2022-08-19T00:01:20.526216Z",
     "iopub.status.busy": "2022-08-19T00:01:20.525800Z",
     "iopub.status.idle": "2022-08-19T00:01:20.545673Z",
     "shell.execute_reply": "2022-08-19T00:01:20.544403Z"
    },
    "lines_to_next_cell": 0,
    "papermill": {
     "duration": 0.028242,
     "end_time": "2022-08-19T00:01:20.548064",
     "exception": false,
     "start_time": "2022-08-19T00:01:20.519822",
     "status": "completed"
    },
    "tags": []
   },
   "outputs": [
    {
     "data": {
      "application/javascript": [
       "parent.postMessage({\"jupyterEvent\": \"custom.exercise_interaction\", \"data\": {\"outcomeType\": 1, \"valueTowardsCompletion\": 0.3333333333333333, \"interactionType\": 1, \"questionType\": 2, \"questionId\": \"2_Q2\", \"learnToolsVersion\": \"0.3.4\", \"failureMessage\": \"\", \"exceptionClass\": \"\", \"trace\": \"\"}}, \"*\")"
      ],
      "text/plain": [
       "<IPython.core.display.Javascript object>"
      ]
     },
     "metadata": {},
     "output_type": "display_data"
    },
    {
     "data": {
      "text/markdown": [
       "<span style=\"color:#33cc33\">Correct</span>"
      ],
      "text/plain": [
       "Correct"
      ]
     },
     "metadata": {},
     "output_type": "display_data"
    }
   ],
   "source": [
    "# YOUR CODE HERE\n",
    "model.compile(\n",
    "    optimizer= 'Adam',\n",
    "    loss= 'binary_crossentropy',\n",
    "    metrics=['binary_accuracy'],\n",
    ")\n",
    "\n",
    "# Check your answer\n",
    "q_2.check()"
   ]
  },
  {
   "cell_type": "code",
   "execution_count": 5,
   "id": "52dfe802",
   "metadata": {
    "execution": {
     "iopub.execute_input": "2022-08-19T00:01:20.558985Z",
     "iopub.status.busy": "2022-08-19T00:01:20.558550Z",
     "iopub.status.idle": "2022-08-19T00:01:20.563478Z",
     "shell.execute_reply": "2022-08-19T00:01:20.562310Z"
    },
    "lines_to_next_cell": 0,
    "papermill": {
     "duration": 0.013127,
     "end_time": "2022-08-19T00:01:20.565816",
     "exception": false,
     "start_time": "2022-08-19T00:01:20.552689",
     "status": "completed"
    },
    "tags": []
   },
   "outputs": [],
   "source": [
    "# Lines below will give you a hint or solution code\n",
    "#q_2.hint()\n",
    "#q_2.solution()"
   ]
  },
  {
   "cell_type": "markdown",
   "id": "5dd75920",
   "metadata": {
    "papermill": {
     "duration": 0.004541,
     "end_time": "2022-08-19T00:01:20.575364",
     "exception": false,
     "start_time": "2022-08-19T00:01:20.570823",
     "status": "completed"
    },
    "tags": []
   },
   "source": [
    "Finally, run this cell to train the model and view the learning curves. It may run for around 60 to 70 epochs, which could take a minute or two."
   ]
  },
  {
   "cell_type": "code",
   "execution_count": 6,
   "id": "0961eff1",
   "metadata": {
    "execution": {
     "iopub.execute_input": "2022-08-19T00:01:20.587102Z",
     "iopub.status.busy": "2022-08-19T00:01:20.586698Z",
     "iopub.status.idle": "2022-08-19T00:03:05.724122Z",
     "shell.execute_reply": "2022-08-19T00:03:05.722858Z"
    },
    "papermill": {
     "duration": 105.146608,
     "end_time": "2022-08-19T00:03:05.726817",
     "exception": false,
     "start_time": "2022-08-19T00:01:20.580209",
     "status": "completed"
    },
    "tags": []
   },
   "outputs": [
    {
     "name": "stderr",
     "output_type": "stream",
     "text": [
      "2022-08-19 00:01:20.710419: I tensorflow/compiler/mlir/mlir_graph_optimization_pass.cc:185] None of the MLIR Optimization Passes are enabled (registered 2)\n"
     ]
    },
    {
     "name": "stdout",
     "output_type": "stream",
     "text": [
      "Epoch 1/200\n",
      "175/175 [==============================] - 4s 16ms/step - loss: 0.4786 - binary_accuracy: 0.7721 - val_loss: 0.4294 - val_binary_accuracy: 0.7961\n",
      "Epoch 2/200\n",
      "175/175 [==============================] - 2s 14ms/step - loss: 0.4244 - binary_accuracy: 0.8011 - val_loss: 0.4014 - val_binary_accuracy: 0.8118\n",
      "Epoch 3/200\n",
      "175/175 [==============================] - 2s 14ms/step - loss: 0.4101 - binary_accuracy: 0.8076 - val_loss: 0.3934 - val_binary_accuracy: 0.8172\n",
      "Epoch 4/200\n",
      "175/175 [==============================] - 2s 14ms/step - loss: 0.4021 - binary_accuracy: 0.8126 - val_loss: 0.3889 - val_binary_accuracy: 0.8190\n",
      "Epoch 5/200\n",
      "175/175 [==============================] - 2s 14ms/step - loss: 0.3966 - binary_accuracy: 0.8146 - val_loss: 0.3865 - val_binary_accuracy: 0.8200\n",
      "Epoch 6/200\n",
      "175/175 [==============================] - 2s 14ms/step - loss: 0.3928 - binary_accuracy: 0.8177 - val_loss: 0.3819 - val_binary_accuracy: 0.8244\n",
      "Epoch 7/200\n",
      "175/175 [==============================] - 3s 17ms/step - loss: 0.3878 - binary_accuracy: 0.8200 - val_loss: 0.3785 - val_binary_accuracy: 0.8249\n",
      "Epoch 8/200\n",
      "175/175 [==============================] - 2s 14ms/step - loss: 0.3841 - binary_accuracy: 0.8216 - val_loss: 0.3758 - val_binary_accuracy: 0.8259\n",
      "Epoch 9/200\n",
      "175/175 [==============================] - 2s 14ms/step - loss: 0.3817 - binary_accuracy: 0.8229 - val_loss: 0.3748 - val_binary_accuracy: 0.8267\n",
      "Epoch 10/200\n",
      "175/175 [==============================] - 3s 14ms/step - loss: 0.3786 - binary_accuracy: 0.8245 - val_loss: 0.3756 - val_binary_accuracy: 0.8280\n",
      "Epoch 11/200\n",
      "175/175 [==============================] - 2s 14ms/step - loss: 0.3754 - binary_accuracy: 0.8258 - val_loss: 0.3692 - val_binary_accuracy: 0.8289\n",
      "Epoch 12/200\n",
      "175/175 [==============================] - 3s 14ms/step - loss: 0.3736 - binary_accuracy: 0.8276 - val_loss: 0.3687 - val_binary_accuracy: 0.8300\n",
      "Epoch 13/200\n",
      "175/175 [==============================] - 2s 14ms/step - loss: 0.3706 - binary_accuracy: 0.8281 - val_loss: 0.3679 - val_binary_accuracy: 0.8287\n",
      "Epoch 14/200\n",
      "175/175 [==============================] - 2s 14ms/step - loss: 0.3688 - binary_accuracy: 0.8288 - val_loss: 0.3671 - val_binary_accuracy: 0.8302\n",
      "Epoch 15/200\n",
      "175/175 [==============================] - 2s 14ms/step - loss: 0.3664 - binary_accuracy: 0.8308 - val_loss: 0.3648 - val_binary_accuracy: 0.8316\n",
      "Epoch 16/200\n",
      "175/175 [==============================] - 2s 14ms/step - loss: 0.3649 - binary_accuracy: 0.8309 - val_loss: 0.3622 - val_binary_accuracy: 0.8330\n",
      "Epoch 17/200\n",
      "175/175 [==============================] - 2s 14ms/step - loss: 0.3628 - binary_accuracy: 0.8330 - val_loss: 0.3619 - val_binary_accuracy: 0.8337\n",
      "Epoch 18/200\n",
      "175/175 [==============================] - 2s 14ms/step - loss: 0.3612 - binary_accuracy: 0.8329 - val_loss: 0.3630 - val_binary_accuracy: 0.8318\n",
      "Epoch 19/200\n",
      "175/175 [==============================] - 3s 14ms/step - loss: 0.3590 - binary_accuracy: 0.8337 - val_loss: 0.3604 - val_binary_accuracy: 0.8320\n",
      "Epoch 20/200\n",
      "175/175 [==============================] - 3s 18ms/step - loss: 0.3599 - binary_accuracy: 0.8336 - val_loss: 0.3580 - val_binary_accuracy: 0.8351\n",
      "Epoch 21/200\n",
      "175/175 [==============================] - 2s 14ms/step - loss: 0.3573 - binary_accuracy: 0.8345 - val_loss: 0.3589 - val_binary_accuracy: 0.8347\n",
      "Epoch 22/200\n",
      "175/175 [==============================] - 2s 14ms/step - loss: 0.3558 - binary_accuracy: 0.8356 - val_loss: 0.3596 - val_binary_accuracy: 0.8350\n",
      "Epoch 23/200\n",
      "175/175 [==============================] - 3s 14ms/step - loss: 0.3547 - binary_accuracy: 0.8363 - val_loss: 0.3593 - val_binary_accuracy: 0.8337\n",
      "Epoch 24/200\n",
      "175/175 [==============================] - 2s 14ms/step - loss: 0.3532 - binary_accuracy: 0.8367 - val_loss: 0.3572 - val_binary_accuracy: 0.8351\n",
      "Epoch 25/200\n",
      "175/175 [==============================] - 2s 14ms/step - loss: 0.3525 - binary_accuracy: 0.8364 - val_loss: 0.3552 - val_binary_accuracy: 0.8360\n",
      "Epoch 26/200\n",
      "175/175 [==============================] - 2s 14ms/step - loss: 0.3512 - binary_accuracy: 0.8378 - val_loss: 0.3576 - val_binary_accuracy: 0.8333\n",
      "Epoch 27/200\n",
      "175/175 [==============================] - 2s 14ms/step - loss: 0.3491 - binary_accuracy: 0.8386 - val_loss: 0.3548 - val_binary_accuracy: 0.8361\n",
      "Epoch 28/200\n",
      "175/175 [==============================] - 2s 14ms/step - loss: 0.3484 - binary_accuracy: 0.8393 - val_loss: 0.3575 - val_binary_accuracy: 0.8349\n",
      "Epoch 29/200\n",
      "175/175 [==============================] - 2s 14ms/step - loss: 0.3483 - binary_accuracy: 0.8391 - val_loss: 0.3540 - val_binary_accuracy: 0.8369\n",
      "Epoch 30/200\n",
      "175/175 [==============================] - 2s 14ms/step - loss: 0.3475 - binary_accuracy: 0.8395 - val_loss: 0.3531 - val_binary_accuracy: 0.8385\n",
      "Epoch 31/200\n",
      "175/175 [==============================] - 2s 14ms/step - loss: 0.3457 - binary_accuracy: 0.8411 - val_loss: 0.3554 - val_binary_accuracy: 0.8355\n",
      "Epoch 32/200\n",
      "175/175 [==============================] - 2s 14ms/step - loss: 0.3448 - binary_accuracy: 0.8413 - val_loss: 0.3544 - val_binary_accuracy: 0.8368\n",
      "Epoch 33/200\n",
      "175/175 [==============================] - 3s 17ms/step - loss: 0.3438 - binary_accuracy: 0.8419 - val_loss: 0.3551 - val_binary_accuracy: 0.8369\n",
      "Epoch 34/200\n",
      "175/175 [==============================] - 3s 15ms/step - loss: 0.3433 - binary_accuracy: 0.8404 - val_loss: 0.3526 - val_binary_accuracy: 0.8381\n",
      "Epoch 35/200\n",
      "175/175 [==============================] - 2s 14ms/step - loss: 0.3422 - binary_accuracy: 0.8408 - val_loss: 0.3522 - val_binary_accuracy: 0.8384\n",
      "Epoch 36/200\n",
      "175/175 [==============================] - 2s 14ms/step - loss: 0.3417 - binary_accuracy: 0.8414 - val_loss: 0.3511 - val_binary_accuracy: 0.8391\n",
      "Epoch 37/200\n",
      "175/175 [==============================] - 2s 14ms/step - loss: 0.3399 - binary_accuracy: 0.8430 - val_loss: 0.3518 - val_binary_accuracy: 0.8396\n",
      "Epoch 38/200\n",
      "175/175 [==============================] - 2s 14ms/step - loss: 0.3406 - binary_accuracy: 0.8439 - val_loss: 0.3539 - val_binary_accuracy: 0.8375\n",
      "Epoch 39/200\n",
      "175/175 [==============================] - 2s 14ms/step - loss: 0.3398 - binary_accuracy: 0.8430 - val_loss: 0.3508 - val_binary_accuracy: 0.8390\n",
      "Epoch 40/200\n",
      "175/175 [==============================] - 2s 14ms/step - loss: 0.3378 - binary_accuracy: 0.8444 - val_loss: 0.3537 - val_binary_accuracy: 0.8377\n",
      "Epoch 41/200\n",
      "175/175 [==============================] - 2s 14ms/step - loss: 0.3376 - binary_accuracy: 0.8442 - val_loss: 0.3534 - val_binary_accuracy: 0.8382\n"
     ]
    },
    {
     "data": {
      "text/plain": [
       "<AxesSubplot:title={'center':'Accuracy'}>"
      ]
     },
     "execution_count": 6,
     "metadata": {},
     "output_type": "execute_result"
    },
    {
     "data": {
      "image/png": "[encoded data removed]",
      "text/plain": [
       "<Figure size 432x288 with 1 Axes>"
      ]
     },
     "metadata": {},
     "output_type": "display_data"
    },
    {
     "data": {
      "image/png": "[encoded data removed]",
      "text/plain": [
       "<Figure size 432x288 with 1 Axes>"
      ]
     },
     "metadata": {},
     "output_type": "display_data"
    }
   ],
   "source": [
    "early_stopping = keras.callbacks.EarlyStopping(\n",
    "    patience=5,\n",
    "    min_delta=0.001,\n",
    "    restore_best_weights=True,\n",
    ")\n",
    "history = model.fit(\n",
    "    X_train, y_train,\n",
    "    validation_data=(X_valid, y_valid),\n",
    "    batch_size=512,\n",
    "    epochs=200,\n",
    "    callbacks=[early_stopping],\n",
    ")\n",
    "\n",
    "history_df = pd.DataFrame(history.history)\n",
    "history_df.loc[:, ['loss', 'val_loss']].plot(title=\"Cross-entropy\")\n",
    "history_df.loc[:, ['binary_accuracy', 'val_binary_accuracy']].plot(title=\"Accuracy\")"
   ]
  },
  {
   "cell_type": "markdown",
   "id": "2393eb04",
   "metadata": {
    "papermill": {
     "duration": 0.117064,
     "end_time": "2022-08-19T00:03:05.963848",
     "exception": false,
     "start_time": "2022-08-19T00:03:05.846784",
     "status": "completed"
    },
    "tags": []
   },
   "source": [
    "# 3) Train and Evaluate #\n",
    "\n",
    "\n",
    "What do you think about the learning curves? Does it look like the model underfit or overfit? Was the cross-entropy loss a good stand-in for accuracy?"
   ]
  },
  {
   "cell_type": "code",
   "execution_count": 7,
   "id": "c6fc1ade",
   "metadata": {
    "execution": {
     "iopub.execute_input": "2022-08-19T00:03:06.201245Z",
     "iopub.status.busy": "2022-08-19T00:03:06.200575Z",
     "iopub.status.idle": "2022-08-19T00:03:06.209747Z",
     "shell.execute_reply": "2022-08-19T00:03:06.208456Z"
    },
    "papermill": {
     "duration": 0.130145,
     "end_time": "2022-08-19T00:03:06.212301",
     "exception": false,
     "start_time": "2022-08-19T00:03:06.082156",
     "status": "completed"
    },
    "tags": []
   },
   "outputs": [
    {
     "data": {
      "application/javascript": [
       "parent.postMessage({\"jupyterEvent\": \"custom.exercise_interaction\", \"data\": {\"outcomeType\": 1, \"valueTowardsCompletion\": 0.3333333333333333, \"interactionType\": 1, \"questionType\": 4, \"questionId\": \"3_Q3\", \"learnToolsVersion\": \"0.3.4\", \"failureMessage\": \"\", \"exceptionClass\": \"\", \"trace\": \"\"}}, \"*\")"
      ],
      "text/plain": [
       "<IPython.core.display.Javascript object>"
      ]
     },
     "metadata": {},
     "output_type": "display_data"
    },
    {
     "data": {
      "text/markdown": [
       "<span style=\"color:#33cc33\">Correct:</span> \n",
       "\n",
       "Though we can see the training loss continuing to fall, the early stopping callback prevented any overfitting. Moreover, the accuracy rose at the same rate as the cross-entropy fell, so it appears that minimizing cross-entropy was a good stand-in. All in all, it looks like this training was a success!"
      ],
      "text/plain": [
       "Correct: \n",
       "\n",
       "Though we can see the training loss continuing to fall, the early stopping callback prevented any overfitting. Moreover, the accuracy rose at the same rate as the cross-entropy fell, so it appears that minimizing cross-entropy was a good stand-in. All in all, it looks like this training was a success!"
      ]
     },
     "metadata": {},
     "output_type": "display_data"
    }
   ],
   "source": [
    "# View the solution (Run this cell to receive credit!)\n",
    "q_3.check()"
   ]
  },
  {
   "cell_type": "markdown",
   "id": "aae3d803",
   "metadata": {
    "papermill": {
     "duration": 0.117619,
     "end_time": "2022-08-19T00:03:06.447264",
     "exception": false,
     "start_time": "2022-08-19T00:03:06.329645",
     "status": "completed"
    },
    "tags": []
   },
   "source": [
    "# Conclusion #\n",
    "\n",
    "Congratulations! You've completed Kaggle's *Introduction to Deep Learning* course!\n",
    "\n",
    "With your new skills you're ready to take on more advanced applications like computer vision and sentiment classification. What would you like to do next?\n",
    "\n",
    "Why not try one of our *Getting Started* competitions?\n",
    "\n",
    "- Classify images with TPUs in [**Petals to the Metal**](https://www.kaggle.com/c/tpu-getting-started)\n",
    "- Create art with GANs in [**I'm Something of a Painter Myself**](https://www.kaggle.com/c/gan-getting-started)\n",
    "- Classify Tweets in [**Real or Not? NLP with Disaster Tweets**](https://www.kaggle.com/c/nlp-getting-started)\n",
    "- Detect contradiction and entailment in [**Contradictory, My Dear Watson**](https://www.kaggle.com/c/contradictory-my-dear-watson)\n",
    "\n",
    "Until next time, Kagglers!"
   ]
  },
  {
   "cell_type": "markdown",
   "id": "a594d42d",
   "metadata": {
    "papermill": {
     "duration": 0.116316,
     "end_time": "2022-08-19T00:03:06.680315",
     "exception": false,
     "start_time": "2022-08-19T00:03:06.563999",
     "status": "completed"
    },
    "tags": []
   },
   "source": [
    "---\n",
    "\n",
    "\n",
    "\n",
    "\n",
    "*Have questions or comments? Visit the [course discussion forum](https://www.kaggle.com/learn/intro-to-deep-learning/discussion) to chat with other learners.*"
   ]
  }
 ],
 "metadata": {
  "kernelspec": {
   "display_name": "Python 3",
   "language": "python",
   "name": "python3"
  },
  "language_info": {
   "codemirror_mode": {
    "name": "ipython",
    "version": 3
   },
   "file_extension": ".py",
   "mimetype": "text/x-python",
   "name": "python",
   "nbconvert_exporter": "python",
   "pygments_lexer": "ipython3",
   "version": "3.7.12"
  },
  "papermill": {
   "default_parameters": {},
   "duration": 128.295441,
   "end_time": "2022-08-19T00:03:09.832214",
   "environment_variables": {},
   "exception": null,
   "input_path": "__notebook__.ipynb",
   "output_path": "__notebook__.ipynb",
   "parameters": {},
   "start_time": "2022-08-19T00:01:01.536773",
   "version": "2.3.4"
  }
 },
 "nbformat": 4,
 "nbformat_minor": 5
}
