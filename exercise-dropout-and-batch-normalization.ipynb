{
 "cells": [
  {
   "cell_type": "markdown",
   "id": "95b996b8",
   "metadata": {
    "papermill": {
     "duration": 0.00777,
     "end_time": "2022-08-18T23:58:53.276477",
     "exception": false,
     "start_time": "2022-08-18T23:58:53.268707",
     "status": "completed"
    },
    "tags": []
   },
   "source": [
    "**This notebook is an exercise in the [Intro to Deep Learning](https://www.kaggle.com/learn/intro-to-deep-learning) course.  You can reference the tutorial at [this link](https://www.kaggle.com/ryanholbrook/dropout-and-batch-normalization).**\n",
    "\n",
    "---\n"
   ]
  },
  {
   "cell_type": "markdown",
   "id": "bffd598e",
   "metadata": {
    "papermill": {
     "duration": 0.005461,
     "end_time": "2022-08-18T23:58:53.290225",
     "exception": false,
     "start_time": "2022-08-18T23:58:53.284764",
     "status": "completed"
    },
    "tags": []
   },
   "source": [
    "# Introduction #\n",
    "\n",
    "In this exercise, you'll add dropout to the *Spotify* model from Exercise 4 and see how batch normalization can let you successfully train models on difficult datasets.\n",
    "\n",
    "Run the next cell to get started!"
   ]
  },
  {
   "cell_type": "code",
   "execution_count": 1,
   "id": "39cffec7",
   "metadata": {
    "execution": {
     "iopub.execute_input": "2022-08-18T23:58:53.308252Z",
     "iopub.status.busy": "2022-08-18T23:58:53.306748Z",
     "iopub.status.idle": "2022-08-18T23:58:53.386263Z",
     "shell.execute_reply": "2022-08-18T23:58:53.385046Z"
    },
    "papermill": {
     "duration": 0.092874,
     "end_time": "2022-08-18T23:58:53.390443",
     "exception": false,
     "start_time": "2022-08-18T23:58:53.297569",
     "status": "completed"
    },
    "tags": []
   },
   "outputs": [],
   "source": [
    "# Setup plotting\n",
    "import matplotlib.pyplot as plt\n",
    "plt.style.use('seaborn-whitegrid')\n",
    "# Set Matplotlib defaults\n",
    "plt.rc('figure', autolayout=True)\n",
    "plt.rc('axes', labelweight='bold', labelsize='large',\n",
    "       titleweight='bold', titlesize=18, titlepad=10)\n",
    "plt.rc('animation', html='html5')\n",
    "\n",
    "# Setup feedback system\n",
    "from learntools.core import binder\n",
    "binder.bind(globals())\n",
    "from learntools.deep_learning_intro.ex5 import *"
   ]
  },
  {
   "cell_type": "markdown",
   "id": "fd47161e",
   "metadata": {
    "papermill": {
     "duration": 0.006766,
     "end_time": "2022-08-18T23:58:53.405226",
     "exception": false,
     "start_time": "2022-08-18T23:58:53.398460",
     "status": "completed"
    },
    "tags": []
   },
   "source": [
    "First load the *Spotify* dataset."
   ]
  },
  {
   "cell_type": "code",
   "execution_count": 2,
   "id": "a0b18403",
   "metadata": {
    "execution": {
     "iopub.execute_input": "2022-08-18T23:58:53.418293Z",
     "iopub.status.busy": "2022-08-18T23:58:53.417863Z",
     "iopub.status.idle": "2022-08-18T23:59:02.539608Z",
     "shell.execute_reply": "2022-08-18T23:59:02.537894Z"
    },
    "papermill": {
     "duration": 9.131811,
     "end_time": "2022-08-18T23:59:02.542670",
     "exception": false,
     "start_time": "2022-08-18T23:58:53.410859",
     "status": "completed"
    },
    "tags": []
   },
   "outputs": [
    {
     "name": "stdout",
     "output_type": "stream",
     "text": [
      "Input shape: [18]\n"
     ]
    }
   ],
   "source": [
    "import pandas as pd\n",
    "from sklearn.preprocessing import StandardScaler, OneHotEncoder\n",
    "from sklearn.compose import make_column_transformer\n",
    "from sklearn.model_selection import GroupShuffleSplit\n",
    "\n",
    "from tensorflow import keras\n",
    "from tensorflow.keras import layers\n",
    "from tensorflow.keras import callbacks\n",
    "\n",
    "spotify = pd.read_csv('../input/dl-course-data/spotify.csv')\n",
    "\n",
    "X = spotify.copy().dropna()\n",
    "y = X.pop('track_popularity')\n",
    "artists = X['track_artist']\n",
    "\n",
    "features_num = ['danceability', 'energy', 'key', 'loudness', 'mode',\n",
    "                'speechiness', 'acousticness', 'instrumentalness',\n",
    "                'liveness', 'valence', 'tempo', 'duration_ms']\n",
    "features_cat = ['playlist_genre']\n",
    "\n",
    "preprocessor = make_column_transformer(\n",
    "    (StandardScaler(), features_num),\n",
    "    (OneHotEncoder(), features_cat),\n",
    ")\n",
    "\n",
    "def group_split(X, y, group, train_size=0.75):\n",
    "    splitter = GroupShuffleSplit(train_size=train_size)\n",
    "    train, test = next(splitter.split(X, y, groups=group))\n",
    "    return (X.iloc[train], X.iloc[test], y.iloc[train], y.iloc[test])\n",
    "\n",
    "X_train, X_valid, y_train, y_valid = group_split(X, y, artists)\n",
    "\n",
    "X_train = preprocessor.fit_transform(X_train)\n",
    "X_valid = preprocessor.transform(X_valid)\n",
    "y_train = y_train / 100\n",
    "y_valid = y_valid / 100\n",
    "\n",
    "input_shape = [X_train.shape[1]]\n",
    "print(\"Input shape: {}\".format(input_shape))"
   ]
  },
  {
   "cell_type": "markdown",
   "id": "a3beb958",
   "metadata": {
    "papermill": {
     "duration": 0.005883,
     "end_time": "2022-08-18T23:59:02.554859",
     "exception": false,
     "start_time": "2022-08-18T23:59:02.548976",
     "status": "completed"
    },
    "tags": []
   },
   "source": [
    "# 1) Add Dropout to Spotify Model\n",
    "\n",
    "Here is the last model from Exercise 4. Add two dropout layers, one after the `Dense` layer with 128 units, and one after the `Dense` layer with 64 units. Set the dropout rate on both to `0.3`."
   ]
  },
  {
   "cell_type": "code",
   "execution_count": 3,
   "id": "7923cfb2",
   "metadata": {
    "execution": {
     "iopub.execute_input": "2022-08-18T23:59:02.570435Z",
     "iopub.status.busy": "2022-08-18T23:59:02.569297Z",
     "iopub.status.idle": "2022-08-18T23:59:02.725551Z",
     "shell.execute_reply": "2022-08-18T23:59:02.723924Z"
    },
    "lines_to_next_cell": 2,
    "papermill": {
     "duration": 0.166633,
     "end_time": "2022-08-18T23:59:02.728153",
     "exception": false,
     "start_time": "2022-08-18T23:59:02.561520",
     "status": "completed"
    },
    "tags": []
   },
   "outputs": [
    {
     "name": "stderr",
     "output_type": "stream",
     "text": [
      "2022-08-18 23:59:02.620123: I tensorflow/core/common_runtime/process_util.cc:146] Creating new thread pool with default inter op setting: 2. Tune using inter_op_parallelism_threads for best performance.\n"
     ]
    },
    {
     "data": {
      "application/javascript": [
       "parent.postMessage({\"jupyterEvent\": \"custom.exercise_interaction\", \"data\": {\"outcomeType\": 1, \"valueTowardsCompletion\": 0.25, \"interactionType\": 1, \"questionType\": 2, \"questionId\": \"1_Q1\", \"learnToolsVersion\": \"0.3.4\", \"failureMessage\": \"\", \"exceptionClass\": \"\", \"trace\": \"\"}}, \"*\")"
      ],
      "text/plain": [
       "<IPython.core.display.Javascript object>"
      ]
     },
     "metadata": {},
     "output_type": "display_data"
    },
    {
     "data": {
      "text/markdown": [
       "<span style=\"color:#33cc33\">Correct</span>"
      ],
      "text/plain": [
       "Correct"
      ]
     },
     "metadata": {},
     "output_type": "display_data"
    }
   ],
   "source": [
    "# YOUR CODE HERE: Add two 30% dropout layers, one after 128 and one after 64\n",
    "model = keras.Sequential([\n",
    "    layers.Dense(128, activation='relu', input_shape=input_shape),\n",
    "    layers.Dropout(0.3),\n",
    "    layers.Dense(64, activation='relu'),\n",
    "    layers.Dropout(0.3),\n",
    "    layers.Dense(1)\n",
    "])\n",
    "\n",
    "# Check your answer\n",
    "q_1.check()"
   ]
  },
  {
   "cell_type": "code",
   "execution_count": 4,
   "id": "513e8f7e",
   "metadata": {
    "execution": {
     "iopub.execute_input": "2022-08-18T23:59:02.742380Z",
     "iopub.status.busy": "2022-08-18T23:59:02.741925Z",
     "iopub.status.idle": "2022-08-18T23:59:02.747821Z",
     "shell.execute_reply": "2022-08-18T23:59:02.746196Z"
    },
    "papermill": {
     "duration": 0.016211,
     "end_time": "2022-08-18T23:59:02.750648",
     "exception": false,
     "start_time": "2022-08-18T23:59:02.734437",
     "status": "completed"
    },
    "tags": []
   },
   "outputs": [],
   "source": [
    "# Lines below will give you a hint or solution code\n",
    "#q_1.hint()\n",
    "#q_1.solution()"
   ]
  },
  {
   "cell_type": "markdown",
   "id": "b136d690",
   "metadata": {
    "papermill": {
     "duration": 0.00577,
     "end_time": "2022-08-18T23:59:02.762601",
     "exception": false,
     "start_time": "2022-08-18T23:59:02.756831",
     "status": "completed"
    },
    "tags": []
   },
   "source": [
    "Now run this next cell to train the model see the effect of adding dropout."
   ]
  },
  {
   "cell_type": "code",
   "execution_count": 5,
   "id": "e68bfd8a",
   "metadata": {
    "execution": {
     "iopub.execute_input": "2022-08-18T23:59:02.776451Z",
     "iopub.status.busy": "2022-08-18T23:59:02.776046Z",
     "iopub.status.idle": "2022-08-18T23:59:24.327089Z",
     "shell.execute_reply": "2022-08-18T23:59:24.325879Z"
    },
    "papermill": {
     "duration": 21.561214,
     "end_time": "2022-08-18T23:59:24.329824",
     "exception": false,
     "start_time": "2022-08-18T23:59:02.768610",
     "status": "completed"
    },
    "tags": []
   },
   "outputs": [
    {
     "name": "stderr",
     "output_type": "stream",
     "text": [
      "2022-08-18 23:59:02.879346: I tensorflow/compiler/mlir/mlir_graph_optimization_pass.cc:185] None of the MLIR Optimization Passes are enabled (registered 2)\n"
     ]
    },
    {
     "name": "stdout",
     "output_type": "stream",
     "text": [
      "Minimum Validation Loss: 0.1929\n"
     ]
    },
    {
     "data": {
      "image/png": "[encoded data removed]",
      "text/plain": [
       "<Figure size 432x288 with 1 Axes>"
      ]
     },
     "metadata": {},
     "output_type": "display_data"
    }
   ],
   "source": [
    "model.compile(\n",
    "    optimizer='adam',\n",
    "    loss='mae',\n",
    ")\n",
    "history = model.fit(\n",
    "    X_train, y_train,\n",
    "    validation_data=(X_valid, y_valid),\n",
    "    batch_size=512,\n",
    "    epochs=50,\n",
    "    verbose=0,\n",
    ")\n",
    "history_df = pd.DataFrame(history.history)\n",
    "history_df.loc[:, ['loss', 'val_loss']].plot()\n",
    "print(\"Minimum Validation Loss: {:0.4f}\".format(history_df['val_loss'].min()))"
   ]
  },
  {
   "cell_type": "markdown",
   "id": "5105e2d1",
   "metadata": {
    "papermill": {
     "duration": 0.006433,
     "end_time": "2022-08-18T23:59:24.342734",
     "exception": false,
     "start_time": "2022-08-18T23:59:24.336301",
     "status": "completed"
    },
    "tags": []
   },
   "source": [
    "# 2) Evaluate Dropout\n",
    "\n",
    "Recall from Exercise 4 that this model tended to overfit the data around epoch 5. Did adding dropout seem to help prevent overfitting this time?"
   ]
  },
  {
   "cell_type": "code",
   "execution_count": 6,
   "id": "c7d36b31",
   "metadata": {
    "execution": {
     "iopub.execute_input": "2022-08-18T23:59:24.357418Z",
     "iopub.status.busy": "2022-08-18T23:59:24.357022Z",
     "iopub.status.idle": "2022-08-18T23:59:24.366699Z",
     "shell.execute_reply": "2022-08-18T23:59:24.365403Z"
    },
    "papermill": {
     "duration": 0.020222,
     "end_time": "2022-08-18T23:59:24.369390",
     "exception": false,
     "start_time": "2022-08-18T23:59:24.349168",
     "status": "completed"
    },
    "tags": []
   },
   "outputs": [
    {
     "data": {
      "application/javascript": [
       "parent.postMessage({\"jupyterEvent\": \"custom.exercise_interaction\", \"data\": {\"outcomeType\": 1, \"valueTowardsCompletion\": 0.25, \"interactionType\": 1, \"questionType\": 4, \"questionId\": \"2_Q2\", \"learnToolsVersion\": \"0.3.4\", \"failureMessage\": \"\", \"exceptionClass\": \"\", \"trace\": \"\"}}, \"*\")"
      ],
      "text/plain": [
       "<IPython.core.display.Javascript object>"
      ]
     },
     "metadata": {},
     "output_type": "display_data"
    },
    {
     "data": {
      "text/markdown": [
       "<span style=\"color:#33cc33\">Correct:</span> \n",
       "\n",
       "\n",
       "From the learning curves, you can see that the validation loss remains near a constant minimum even though the training loss continues to decrease. So we can see that adding dropout did prevent overfitting this time. Moreover, by making it harder for the network to fit spurious patterns, dropout may have encouraged the network to seek out more of the true patterns, possibly improving the validation loss some as well).\n"
      ],
      "text/plain": [
       "Correct: \n",
       "\n",
       "\n",
       "From the learning curves, you can see that the validation loss remains near a constant minimum even though the training loss continues to decrease. So we can see that adding dropout did prevent overfitting this time. Moreover, by making it harder for the network to fit spurious patterns, dropout may have encouraged the network to seek out more of the true patterns, possibly improving the validation loss some as well)."
      ]
     },
     "metadata": {},
     "output_type": "display_data"
    }
   ],
   "source": [
    "# View the solution (Run this cell to receive credit!)\n",
    "q_2.check()"
   ]
  },
  {
   "cell_type": "markdown",
   "id": "5d7a92f7",
   "metadata": {
    "papermill": {
     "duration": 0.006594,
     "end_time": "2022-08-18T23:59:24.383093",
     "exception": false,
     "start_time": "2022-08-18T23:59:24.376499",
     "status": "completed"
    },
    "tags": []
   },
   "source": [
    "Now, we'll switch topics to explore how batch normalization can fix problems in training.\n",
    "\n",
    "Load the *Concrete* dataset. We won't do any standardization this time. This will make the effect of batch normalization much more apparent."
   ]
  },
  {
   "cell_type": "code",
   "execution_count": 7,
   "id": "75821cdb",
   "metadata": {
    "execution": {
     "iopub.execute_input": "2022-08-18T23:59:24.399760Z",
     "iopub.status.busy": "2022-08-18T23:59:24.399022Z",
     "iopub.status.idle": "2022-08-18T23:59:24.425895Z",
     "shell.execute_reply": "2022-08-18T23:59:24.424891Z"
    },
    "papermill": {
     "duration": 0.037563,
     "end_time": "2022-08-18T23:59:24.428369",
     "exception": false,
     "start_time": "2022-08-18T23:59:24.390806",
     "status": "completed"
    },
    "tags": []
   },
   "outputs": [],
   "source": [
    "import pandas as pd\n",
    "\n",
    "concrete = pd.read_csv('../input/dl-course-data/concrete.csv')\n",
    "df = concrete.copy()\n",
    "\n",
    "df_train = df.sample(frac=0.7, random_state=0)\n",
    "df_valid = df.drop(df_train.index)\n",
    "\n",
    "X_train = df_train.drop('CompressiveStrength', axis=1)\n",
    "X_valid = df_valid.drop('CompressiveStrength', axis=1)\n",
    "y_train = df_train['CompressiveStrength']\n",
    "y_valid = df_valid['CompressiveStrength']\n",
    "\n",
    "input_shape = [X_train.shape[1]]"
   ]
  },
  {
   "cell_type": "markdown",
   "id": "39579afe",
   "metadata": {
    "papermill": {
     "duration": 0.006591,
     "end_time": "2022-08-18T23:59:24.441958",
     "exception": false,
     "start_time": "2022-08-18T23:59:24.435367",
     "status": "completed"
    },
    "tags": []
   },
   "source": [
    "Run the following cell to train the network on the unstandardized *Concrete* data."
   ]
  },
  {
   "cell_type": "code",
   "execution_count": 8,
   "id": "0ae391f5",
   "metadata": {
    "execution": {
     "iopub.execute_input": "2022-08-18T23:59:24.458111Z",
     "iopub.status.busy": "2022-08-18T23:59:24.457329Z",
     "iopub.status.idle": "2022-08-18T23:59:36.993675Z",
     "shell.execute_reply": "2022-08-18T23:59:36.992501Z"
    },
    "papermill": {
     "duration": 12.547615,
     "end_time": "2022-08-18T23:59:36.996500",
     "exception": false,
     "start_time": "2022-08-18T23:59:24.448885",
     "status": "completed"
    },
    "tags": []
   },
   "outputs": [
    {
     "name": "stdout",
     "output_type": "stream",
     "text": [
      "Minimum Validation Loss: nan\n"
     ]
    },
    {
     "data": {
      "image/png": "[encoded data removed]",
      "text/plain": [
       "<Figure size 432x288 with 1 Axes>"
      ]
     },
     "metadata": {},
     "output_type": "display_data"
    }
   ],
   "source": [
    "model = keras.Sequential([\n",
    "    layers.Dense(512, activation='relu', input_shape=input_shape),\n",
    "    layers.Dense(512, activation='relu'),    \n",
    "    layers.Dense(512, activation='relu'),\n",
    "    layers.Dense(1),\n",
    "])\n",
    "model.compile(\n",
    "    optimizer='sgd', # SGD is more sensitive to differences of scale\n",
    "    loss='mae',\n",
    "    metrics=['mae'],\n",
    ")\n",
    "history = model.fit(\n",
    "    X_train, y_train,\n",
    "    validation_data=(X_valid, y_valid),\n",
    "    batch_size=64,\n",
    "    epochs=100,\n",
    "    verbose=0,\n",
    ")\n",
    "\n",
    "history_df = pd.DataFrame(history.history)\n",
    "history_df.loc[0:, ['loss', 'val_loss']].plot()\n",
    "print((\"Minimum Validation Loss: {:0.4f}\").format(history_df['val_loss'].min()))"
   ]
  },
  {
   "cell_type": "markdown",
   "id": "efec91f1",
   "metadata": {
    "papermill": {
     "duration": 0.006698,
     "end_time": "2022-08-18T23:59:37.010266",
     "exception": false,
     "start_time": "2022-08-18T23:59:37.003568",
     "status": "completed"
    },
    "tags": []
   },
   "source": [
    "Did you end up with a blank graph? Trying to train this network on this dataset will usually fail. Even when it does converge (due to a lucky weight initialization), it tends to converge to a very large number.\n",
    "\n",
    "# 3) Add Batch Normalization Layers\n",
    "\n",
    "Batch normalization can help correct problems like this.\n",
    "\n",
    "Add four `BatchNormalization` layers, one before each of the dense layers. (Remember to move the `input_shape` argument to the new first layer.)"
   ]
  },
  {
   "cell_type": "code",
   "execution_count": 9,
   "id": "c95e4484",
   "metadata": {
    "execution": {
     "iopub.execute_input": "2022-08-18T23:59:37.025939Z",
     "iopub.status.busy": "2022-08-18T23:59:37.025492Z",
     "iopub.status.idle": "2022-08-18T23:59:37.049274Z",
     "shell.execute_reply": "2022-08-18T23:59:37.047964Z"
    },
    "lines_to_next_cell": 0,
    "papermill": {
     "duration": 0.034274,
     "end_time": "2022-08-18T23:59:37.051473",
     "exception": false,
     "start_time": "2022-08-18T23:59:37.017199",
     "status": "completed"
    },
    "tags": []
   },
   "outputs": [
    {
     "data": {
      "application/javascript": [
       "parent.postMessage({\"jupyterEvent\": \"custom.exercise_interaction\", \"data\": {\"outcomeType\": 1, \"valueTowardsCompletion\": 0.25, \"interactionType\": 1, \"questionType\": 2, \"questionId\": \"3_Q3\", \"learnToolsVersion\": \"0.3.4\", \"failureMessage\": \"\", \"exceptionClass\": \"\", \"trace\": \"\"}}, \"*\")"
      ],
      "text/plain": [
       "<IPython.core.display.Javascript object>"
      ]
     },
     "metadata": {},
     "output_type": "display_data"
    },
    {
     "data": {
      "text/markdown": [
       "<span style=\"color:#33cc33\">Correct</span>"
      ],
      "text/plain": [
       "Correct"
      ]
     },
     "metadata": {},
     "output_type": "display_data"
    }
   ],
   "source": [
    "# YOUR CODE HERE: Add a BatchNormalization layer before each Dense layer\n",
    "model = keras.Sequential([\n",
    "    layers.BatchNormalization(),\n",
    "    layers.Dense(512, activation='relu', input_shape=input_shape),\n",
    "    layers.BatchNormalization(),\n",
    "    layers.Dense(512, activation='relu'),\n",
    "    layers.BatchNormalization(),\n",
    "    layers.Dense(512, activation='relu'),\n",
    "    layers.BatchNormalization(),\n",
    "    layers.Dense(1),\n",
    "])\n",
    "\n",
    "# Check your answer\n",
    "q_3.check()"
   ]
  },
  {
   "cell_type": "code",
   "execution_count": 10,
   "id": "9ef95d3e",
   "metadata": {
    "execution": {
     "iopub.execute_input": "2022-08-18T23:59:37.067618Z",
     "iopub.status.busy": "2022-08-18T23:59:37.067203Z",
     "iopub.status.idle": "2022-08-18T23:59:37.072113Z",
     "shell.execute_reply": "2022-08-18T23:59:37.070998Z"
    },
    "papermill": {
     "duration": 0.016122,
     "end_time": "2022-08-18T23:59:37.074754",
     "exception": false,
     "start_time": "2022-08-18T23:59:37.058632",
     "status": "completed"
    },
    "tags": []
   },
   "outputs": [],
   "source": [
    "# Lines below will give you a hint or solution code\n",
    "#q_3.hint()\n",
    "#q_3.solution()"
   ]
  },
  {
   "cell_type": "markdown",
   "id": "a14f3c72",
   "metadata": {
    "papermill": {
     "duration": 0.006985,
     "end_time": "2022-08-18T23:59:37.089196",
     "exception": false,
     "start_time": "2022-08-18T23:59:37.082211",
     "status": "completed"
    },
    "tags": []
   },
   "source": [
    "Run the next cell to see if batch normalization will let us train the model."
   ]
  },
  {
   "cell_type": "code",
   "execution_count": 11,
   "id": "5c9fbedc",
   "metadata": {
    "execution": {
     "iopub.execute_input": "2022-08-18T23:59:37.106347Z",
     "iopub.status.busy": "2022-08-18T23:59:37.105233Z",
     "iopub.status.idle": "2022-08-18T23:59:52.079630Z",
     "shell.execute_reply": "2022-08-18T23:59:52.078490Z"
    },
    "papermill": {
     "duration": 14.985917,
     "end_time": "2022-08-18T23:59:52.082658",
     "exception": false,
     "start_time": "2022-08-18T23:59:37.096741",
     "status": "completed"
    },
    "tags": []
   },
   "outputs": [
    {
     "name": "stdout",
     "output_type": "stream",
     "text": [
      "Minimum Validation Loss: 3.8799\n"
     ]
    },
    {
     "data": {
      "image/png": "[encoded data removed]",
      "text/plain": [
       "<Figure size 432x288 with 1 Axes>"
      ]
     },
     "metadata": {},
     "output_type": "display_data"
    }
   ],
   "source": [
    "model.compile(\n",
    "    optimizer='sgd',\n",
    "    loss='mae',\n",
    "    metrics=['mae'],\n",
    ")\n",
    "EPOCHS = 100\n",
    "history = model.fit(\n",
    "    X_train, y_train,\n",
    "    validation_data=(X_valid, y_valid),\n",
    "    batch_size=64,\n",
    "    epochs=EPOCHS,\n",
    "    verbose=0,\n",
    ")\n",
    "\n",
    "history_df = pd.DataFrame(history.history)\n",
    "history_df.loc[0:, ['loss', 'val_loss']].plot()\n",
    "print((\"Minimum Validation Loss: {:0.4f}\").format(history_df['val_loss'].min()))"
   ]
  },
  {
   "cell_type": "markdown",
   "id": "146490df",
   "metadata": {
    "papermill": {
     "duration": 0.007562,
     "end_time": "2022-08-18T23:59:52.098278",
     "exception": false,
     "start_time": "2022-08-18T23:59:52.090716",
     "status": "completed"
    },
    "tags": []
   },
   "source": [
    "# 4) Evaluate Batch Normalization\n",
    "\n",
    "Did adding batch normalization help?"
   ]
  },
  {
   "cell_type": "code",
   "execution_count": 12,
   "id": "509ac4b6",
   "metadata": {
    "execution": {
     "iopub.execute_input": "2022-08-18T23:59:52.116026Z",
     "iopub.status.busy": "2022-08-18T23:59:52.115614Z",
     "iopub.status.idle": "2022-08-18T23:59:52.122617Z",
     "shell.execute_reply": "2022-08-18T23:59:52.121737Z"
    },
    "lines_to_next_cell": 0,
    "papermill": {
     "duration": 0.018531,
     "end_time": "2022-08-18T23:59:52.124668",
     "exception": false,
     "start_time": "2022-08-18T23:59:52.106137",
     "status": "completed"
    },
    "tags": []
   },
   "outputs": [
    {
     "data": {
      "application/javascript": [
       "parent.postMessage({\"jupyterEvent\": \"custom.exercise_interaction\", \"data\": {\"outcomeType\": 1, \"valueTowardsCompletion\": 0.25, \"interactionType\": 1, \"questionType\": 4, \"questionId\": \"4_Q4\", \"learnToolsVersion\": \"0.3.4\", \"failureMessage\": \"\", \"exceptionClass\": \"\", \"trace\": \"\"}}, \"*\")"
      ],
      "text/plain": [
       "<IPython.core.display.Javascript object>"
      ]
     },
     "metadata": {},
     "output_type": "display_data"
    },
    {
     "data": {
      "text/markdown": [
       "<span style=\"color:#33cc33\">Correct:</span> \n",
       "\n",
       "\n",
       "You can see that adding batch normalization was a big improvement on the first attempt! By adaptively scaling the data as it passes through the network, batch normalization can let you train models on difficult datasets.\n"
      ],
      "text/plain": [
       "Correct: \n",
       "\n",
       "\n",
       "You can see that adding batch normalization was a big improvement on the first attempt! By adaptively scaling the data as it passes through the network, batch normalization can let you train models on difficult datasets."
      ]
     },
     "metadata": {},
     "output_type": "display_data"
    }
   ],
   "source": [
    "# View the solution (Run this cell to receive credit!)\n",
    "q_4.check()"
   ]
  },
  {
   "cell_type": "markdown",
   "id": "f2aa1c26",
   "metadata": {
    "papermill": {
     "duration": 0.007805,
     "end_time": "2022-08-18T23:59:52.140706",
     "exception": false,
     "start_time": "2022-08-18T23:59:52.132901",
     "status": "completed"
    },
    "tags": []
   },
   "source": [
    "# Keep Going #\n",
    "\n",
    "[**Create neural networks**](https://www.kaggle.com/ryanholbrook/binary-classification) for binary classification."
   ]
  },
  {
   "cell_type": "markdown",
   "id": "1ea91c39",
   "metadata": {
    "papermill": {
     "duration": 0.008003,
     "end_time": "2022-08-18T23:59:52.156714",
     "exception": false,
     "start_time": "2022-08-18T23:59:52.148711",
     "status": "completed"
    },
    "tags": []
   },
   "source": [
    "---\n",
    "\n",
    "\n",
    "\n",
    "\n",
    "*Have questions or comments? Visit the [course discussion forum](https://www.kaggle.com/learn/intro-to-deep-learning/discussion) to chat with other learners.*"
   ]
  }
 ],
 "metadata": {
  "kernelspec": {
   "display_name": "Python 3",
   "language": "python",
   "name": "python3"
  },
  "language_info": {
   "codemirror_mode": {
    "name": "ipython",
    "version": 3
   },
   "file_extension": ".py",
   "mimetype": "text/x-python",
   "name": "python",
   "nbconvert_exporter": "python",
   "pygments_lexer": "ipython3",
   "version": "3.7.12"
  },
  "papermill": {
   "default_parameters": {},
   "duration": 72.292041,
   "end_time": "2022-08-18T23:59:55.666700",
   "environment_variables": {},
   "exception": null,
   "input_path": "__notebook__.ipynb",
   "output_path": "__notebook__.ipynb",
   "parameters": {},
   "start_time": "2022-08-18T23:58:43.374659",
   "version": "2.3.4"
  }
 },
 "nbformat": 4,
 "nbformat_minor": 5
}
